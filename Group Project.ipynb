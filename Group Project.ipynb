{
 "cells": [
  {
   "cell_type": "markdown",
   "metadata": {},
   "source": [
    "# <center>Group Project for Data Driven Decision Making</center>"
   ]
  },
  {
   "cell_type": "markdown",
   "metadata": {},
   "source": [
    "------\n",
    "## Import module, library, and data\n",
    "I used the updated Cityline data with over 50,000 entries."
   ]
  },
  {
   "cell_type": "code",
   "execution_count": null,
   "metadata": {},
   "outputs": [],
   "source": [
    "import pandas as pd\n",
    "import numpy as np\n",
    "import datetime\n",
    "import re\n",
    "from IPython.display import display, HTML \n",
    "import matplotlib.pyplot as plt\n",
    "%matplotlib inline\n",
    "import seaborn as sns "
   ]
  },
  {
   "cell_type": "code",
   "execution_count": null,
   "metadata": {},
   "outputs": [],
   "source": [
    "dfc = pd.read_csv(r'Data/original/Cityline_Calls_for_Service_New.csv')\n",
    "dfc_trash=dfc.loc[dfc['complaint_type_name'].str.contains('[Tt]rash')]\n",
    "dfc_trash['complaint_type_name'].value_counts()"
   ]
  },
  {
   "cell_type": "markdown",
   "metadata": {},
   "source": [
    "## Cityline \n",
    "+ Illegal Trash Set Out: 5645\n",
    "+ Trash Skip: 2444\n",
    "+ Trash Can Taken / Damaged: 13\n",
    "+ Trash/Debris-Private, Occ: 2\n",
    "+ Total: 8104 entries contain the word `Trash` in complaint type\n",
    "<br>`Trash Can Taken / Damaged` seems unrelated to trash itself but more like a theft so I will drop them. After removal, 8089 entires are about trash."
   ]
  },
  {
   "cell_type": "code",
   "execution_count": null,
   "metadata": {},
   "outputs": [],
   "source": [
    "dfc_trash=dfc_trash.loc[dfc_trash['complaint_type_name'].str.contains('Damaged')==False].loc[dfc_trash['complaint_type_name'].str.contains('Private')==False]\n",
    "dfc_trash['complaint_type_name'].value_counts()"
   ]
  },
  {
   "cell_type": "markdown",
   "metadata": {},
   "source": [
    "### Check Address"
   ]
  },
  {
   "cell_type": "markdown",
   "metadata": {},
   "source": [
    "After removing `&`, `To`, and `At`, 6537 entries have clean address"
   ]
  },
  {
   "cell_type": "code",
   "execution_count": null,
   "metadata": {},
   "outputs": [],
   "source": [
    "#dfc_trash_address = dfc_trash[dfc_trash['address'].str.contains('&')==False]\n",
    "dfc_trash_address = dfc_trash[(dfc_trash['address'].str.contains(' [Tt][Oo] ')==False) & \n",
    "                              (dfc_trash['address'].str.contains(' [Aa][Tt] ')==False) &\n",
    "                              (dfc_trash['address'].str.contains('&')==False)]\n",
    "#dfc_trash_address = dfc_trash_address\n",
    "dfc_trash_address['address'].count()\n",
    "dfc_trash_address.info()"
   ]
  },
  {
   "cell_type": "markdown",
   "metadata": {},
   "source": [
    "#### Result: 6537 entries have correct address and are about trash.\n",
    "-----\n",
    "### Address Cleanup\n",
    "#### 1. Check the last word in address."
   ]
  },
  {
   "cell_type": "code",
   "execution_count": null,
   "metadata": {},
   "outputs": [],
   "source": [
    "dfc_add_check = dfc_trash_address['address'].str.extract('\\s([A-Za-z]*$)')\n",
    "dfc_add_check[0].sort_values().unique()"
   ]
  },
  {
   "cell_type": "markdown",
   "metadata": {},
   "source": [
    "#### 2. Strip Rear from address\n",
    "Other than the street name abbreviation, `Rear` seems odd and not really a part of address. I googled the address and `Rear` is not really a part of the address. "
   ]
  },
  {
   "cell_type": "code",
   "execution_count": null,
   "metadata": {},
   "outputs": [],
   "source": [
    "dfc_trash_address.loc[dfc_trash_address['address'].str.contains(' Rear$'),'address']=dfc_trash_address['address'].str.replace(' Rear$','')\n",
    "dfc_add_check = dfc_trash_address['address'].str.extract('\\s([A-Za-z]*$)')\n",
    "dfc_add_check[0].sort_values().unique()"
   ]
  },
  {
   "cell_type": "markdown",
   "metadata": {},
   "source": [
    "#### 3. Change NSEW to Full name and move it up front"
   ]
  },
  {
   "cell_type": "code",
   "execution_count": null,
   "metadata": {},
   "outputs": [],
   "source": [
    "dfc_trash_address.loc[dfc_trash_address['address'].str.contains(' N$'),'address'] = 'North '+dfc_trash_address['address'].str[:-2]\n",
    "dfc_trash_address.loc[dfc_trash_address['address'].str.contains(' S$'),'address'] = 'South '+dfc_trash_address['address'].str[:-2]\n",
    "dfc_trash_address.loc[dfc_trash_address['address'].str.contains(' E$'),'address'] = 'East '+dfc_trash_address['address'].str[:-2]\n",
    "dfc_trash_address.loc[dfc_trash_address['address'].str.contains(' W$'),'address'] = 'West '+dfc_trash_address['address'].str[:-2]"
   ]
  },
  {
   "cell_type": "code",
   "execution_count": null,
   "metadata": {},
   "outputs": [],
   "source": [
    "dfc_add_check = dfc_trash_address['address'].str.extract('\\s([A-Za-z]*$)')\n",
    "dfc_add_check[0].sort_values().unique()"
   ]
  },
  {
   "cell_type": "markdown",
   "metadata": {},
   "source": [
    "#### 4. Notice `King`, `Green`, and `Tnpk` as the last word\n",
    "Kinda weird so I pull out the info to check.\n",
    "* `King` is `Martin Luther King`, which is a street name.\n",
    "* `Green` is `Academy Greeg`, which is an address.\n",
    "* `Tnpk` stands for `Turnpike`"
   ]
  },
  {
   "cell_type": "code",
   "execution_count": null,
   "metadata": {},
   "outputs": [],
   "source": [
    "dfc_add_check = dfc_trash_address.loc[(dfc_trash_address['address'].str.contains('King$')) |\n",
    "                                      (dfc_trash_address['address'].str.contains('Green$'))|\n",
    "                                      (dfc_trash_address['address'].str.contains('Tnpk$'))]\n",
    "dfc_add_check['address'].sort_values().unique()"
   ]
  },
  {
   "cell_type": "markdown",
   "metadata": {},
   "source": [
    "#### 5. Replace the Abbreviation with Full Street Name."
   ]
  },
  {
   "cell_type": "code",
   "execution_count": null,
   "metadata": {},
   "outputs": [],
   "source": [
    "dfc_trash_address['address']=dfc_trash_address['address'].str.replace(' Ave$',' Avenue'\n",
    "                                                                     ).str.replace(' Blvd$',' Boulevard'\n",
    "                                                                     ).str.replace(' Cir$',' Circle'\n",
    "                                                                     ).str.replace(' Ct$',' Court'\n",
    "                                                                     ).str.replace(' Dr$',' Drive'\n",
    "                                                                     ).str.replace(' Ext$',' Extension',\n",
    "                                                                     ).str.replace(' Ln$',' Lane'\n",
    "                                                                     ).str.replace(' Pk$',' Park'\n",
    "                                                                     ).str.replace(' Pkwy$',' Parkway'\n",
    "                                                                     ).str.replace(' Pl$',' Place'\n",
    "                                                                     ).str.replace(' Rd$',' Road'\n",
    "                                                                     ).str.replace(' Sq$',' Square'\n",
    "                                                                     ).str.replace(' St$',' Street'\n",
    "                                                                     ).str.replace(' Terr$',' Terrace'\n",
    "                                                                     ).str.replace(' Tnpk$',' Turnpike'\n",
    "                                                                     ).str.replace(' Luthr ',' Luther ')"
   ]
  },
  {
   "cell_type": "markdown",
   "metadata": {},
   "source": [
    "#### 6. Combine street number with capitalised address"
   ]
  },
  {
   "cell_type": "code",
   "execution_count": null,
   "metadata": {},
   "outputs": [],
   "source": [
    "dfc_trash_address['street_address']=dfc_trash_address['number']+' '+dfc_trash_address['address'].str.upper()"
   ]
  },
  {
   "cell_type": "code",
   "execution_count": null,
   "metadata": {},
   "outputs": [],
   "source": [
    "dfc_trash_address['street_address'].count()"
   ]
  },
  {
   "cell_type": "markdown",
   "metadata": {},
   "source": [
    "## Done for Cityline Address\n",
    "\n",
    "-------\n",
    "## Parcel Data"
   ]
  },
  {
   "cell_type": "code",
   "execution_count": null,
   "metadata": {},
   "outputs": [],
   "source": [
    "dfp = pd.read_csv(r'Data/original/Parcel_Data_April_2018.csv')\n",
    "#dfp.info()"
   ]
  },
  {
   "cell_type": "markdown",
   "metadata": {},
   "source": [
    "#### 1. Clean up weird address"
   ]
  },
  {
   "cell_type": "code",
   "execution_count": null,
   "metadata": {},
   "outputs": [],
   "source": [
    "dfp.loc[dfp['FullName'].str.contains('&'), 'FullName'] = dfp['FullName'].str.extract('(.*)&')[0]\n",
    "dfp.loc[dfp['FullName'].str.contains(' & '), 'FullName'] = dfp['FullName'].str.extract('(.*) & ')[0]\n",
    "dfp.loc[dfp['FullName'].str.contains(' TO '), 'FullName'] = dfp['FullName'].str.extract('(.*) TO ')[0]\n",
    "dfp.loc[dfp['FullName'].str.contains(' AT '), 'FullName'] = dfp['FullName'].str.extract('(.*) AT ')[0]\n",
    "dfp.loc[dfp['FullName'].str.contains(' $'), 'FullName'] = dfp['FullName'].str.extract('(.*) $')[0]\n",
    "dfp.loc[dfp['FullName'].str.contains(' REAR'), 'FullName'] = dfp['FullName'].str.extract('(.*) REAR')[0]\n",
    "dfp.loc[dfp['FullName'].str.contains(' R '), 'FullName'] = dfp['FullName'].str.extract('(.*) R')[0]\n",
    "dfp.loc[dfp['FullName'].str.contains(' $'), 'FullName'] = dfp['FullName'].str.extract('(.*) $')[0]\n",
    "dfp.loc[dfp['FullName'].str.contains(' SIDE$'), 'FullName'] = dfp['FullName'].str.extract('(.*) SIDE$')[0]\n",
    "dfp.loc[dfp['FullName'].str.contains('114 SABINE'), 'FullName'] = dfp['FullName'] + ' ST'\n",
    "dfp.loc[dfp['FullName'].str.contains('194 CHAFFEE'), 'FullName'] = dfp['FullName'] + ' ST'\n",
    "#dfp['FullName'].unique().tolist()"
   ]
  },
  {
   "cell_type": "markdown",
   "metadata": {},
   "source": [
    "#### 2. Check the last word of the address"
   ]
  },
  {
   "cell_type": "code",
   "execution_count": null,
   "metadata": {},
   "outputs": [],
   "source": [
    "dfp_add_check = dfp['FullName'].str.extract('\\s([A-Za-z]*$)')\n",
    "dfp_add_check[0].sort_values().unique()\n",
    "#display(HTML(dfp_add_check.head(1).to_html()))"
   ]
  },
  {
   "cell_type": "markdown",
   "metadata": {},
   "source": [
    "#### 3. Check the weird address"
   ]
  },
  {
   "cell_type": "code",
   "execution_count": null,
   "metadata": {},
   "outputs": [],
   "source": [
    "dfp_add_check = dfp[(dfp['FullName'].str.contains('SABINE$')==True) |\n",
    "                    (dfp['FullName'].str.contains('SIDE$')==True)]\n",
    "display(HTML(dfp_add_check.head(1).to_html()))\n",
    "dfp_add_check['FullName'].unique().tolist()"
   ]
  },
  {
   "cell_type": "markdown",
   "metadata": {},
   "source": [
    "#### 4. Move Direction NSEW to Front"
   ]
  },
  {
   "cell_type": "code",
   "execution_count": null,
   "metadata": {},
   "outputs": [],
   "source": [
    "dfp.loc[dfp['FullName'].str.contains(' E$'),'FullName']=dfp['FullName'].str.extract('([^A-Z]*) ')[0]+' EAST '+dfp['FullName'].str.extract('[^A-Z]* (.*) [A-Z]$')[0]\n",
    "dfp.loc[dfp['FullName'].str.contains(' W$'),'FullName']=dfp['FullName'].str.extract('([^A-Z]*) ')[0]+' WEST '+dfp['FullName'].str.extract('[^A-Z]* (.*) [A-Z]$')[0]\n",
    "dfp.loc[dfp['FullName'].str.contains(' N$'),'FullName']=dfp['FullName'].str.extract('([^A-Z]*) ')[0]+' NORTH '+dfp['FullName'].str.extract('[^A-Z]* (.*) [A-Z]$')[0]\n",
    "dfp.loc[dfp['FullName'].str.contains(' S$'),'FullName']=dfp['FullName'].str.extract('([^A-Z]*) ')[0]+' SOUTH '+dfp['FullName'].str.extract('[^A-Z]* (.*) [A-Z]$')[0]"
   ]
  },
  {
   "cell_type": "code",
   "execution_count": null,
   "metadata": {},
   "outputs": [],
   "source": [
    "dfp_add_check = dfp['FullName'].str.extract('\\s([A-Za-z]*$)')\n",
    "dfp_add_check[0].sort_values().unique()"
   ]
  },
  {
   "cell_type": "markdown",
   "metadata": {},
   "source": [
    "#### 5. Change Abbrieviation to Full Name"
   ]
  },
  {
   "cell_type": "code",
   "execution_count": null,
   "metadata": {},
   "outputs": [],
   "source": [
    "dfp['FullName']=dfp['FullName'].str.replace(' AVE*$',' AVENUE').str.replace(' ALY$',' ALLEY'\n",
    "                              ).str.replace(' BLVD$',' BOULEVARD').str.replace(' BRG$',' BRIDGE').str.replace(' CIR$',' CIRCLE'\n",
    "                              ).str.replace(' CT$',' COURT').str.replace(' DR$',' DRIVE' ).str.replace(' EXT$',' EXTENSION',\n",
    "                              ).str.replace(' GRN$',' GREEN').str.replace(' L[AN]$',' LANE').str.replace(' PK$',' PARK'\n",
    "                              ).str.replace(' PKWY$',' PARKWAY').str.replace(' PL$',' PLACE').str.replace(' RD$',' ROAD'\n",
    "                              ).str.replace(' SQ$',' SQUARE').str.replace(' ST$',' STREET').str.replace(' TER+$',' TERRACE'\n",
    "                              ).str.replace(' TNPK$',' TURNPIKE')"
   ]
  },
  {
   "cell_type": "code",
   "execution_count": null,
   "metadata": {},
   "outputs": [],
   "source": [
    "dfp_add_check = dfp['FullName'].str.extract('\\s([A-Za-z]*$)')\n",
    "dfp_add_check[0].sort_values().unique()"
   ]
  },
  {
   "cell_type": "markdown",
   "metadata": {},
   "source": [
    "------\n",
    "\n",
    "### RECAP!\n",
    "Until now, I have \n",
    "1. `dfc_trash_address`: Cityline dataframe with cleaned and capitalised address that is combined with street number in a column named `street_address`\n",
    "2. `dfp`: Parcel dataframe with cleaned address in a column called `FullName`\n",
    "------\n",
    "### Merge 1: Parcel with Cityline\n",
    "#### 1. Drop `Parcel FullName` Duplicates\n",
    "Because I am merging `Cityline` `street_address` with `Parcel` `FullName` column to get the `CensusTrac` for future merging with demographic data, given that the same address always has the same census tract, I will drop the duplicated `FullName` in `Parcel` in the merging process. The merged dataframe will be called, unsurprisingly, `dfm`.\n",
    "+ `pd.merge`: Panda merge function\n",
    "+ `dfc_trash_address`: Dataframe on the left\n",
    "+ `dfp.drop_duplicates('FullName')`: df on the right with duplicated `FullName` dropped\n",
    "+ `left_on`: the column to merge on the left, cityline\n",
    "+ `right_on`: above\n",
    "+ `how = 'left'`: left merge, meaning everything in `Cityline` will still be in `dfm` whether the `street_address` is matched with a `FullName` or not so there will be some rows contain info from both `Cityline` and `Parcel` and some only has info from `Cityline`. For `Parcel`, if none of the `street_address` can match, the rows are **NOT** included.\n",
    "+ `validate = 'm:1'`: Left, `Cityline street_address`, can have multiple rows with the same value (address) and right, `Parcel FullName`, has to be unique. \n",
    "### Result: 6500 rows from Cityline were matched."
   ]
  },
  {
   "cell_type": "code",
   "execution_count": null,
   "metadata": {},
   "outputs": [],
   "source": [
    "dfm = pd.merge(dfc_trash_address,\n",
    "               dfp.drop_duplicates('FullName'),\n",
    "               left_on = 'street_address',\n",
    "               right_on = 'FullName',\n",
    "               how = 'left',\n",
    "               validate = 'm:1',\n",
    "               indicator = True)\n",
    "dfm['_merge'].value_counts()"
   ]
  },
  {
   "cell_type": "markdown",
   "metadata": {},
   "source": [
    "#### 2. Take a look\n",
    "2-1:<br>\n",
    "Now 6500 addresses from `Cityline Trash` has a `CensusTrac` and will be used to merge with demographics data to obtain information"
   ]
  },
  {
   "cell_type": "code",
   "execution_count": null,
   "metadata": {},
   "outputs": [],
   "source": [
    "display(HTML(dfm.head(1).to_html()))"
   ]
  },
  {
   "cell_type": "markdown",
   "metadata": {},
   "source": [
    "2-2:<br>\n",
    "Take a look at the `CensusTrac` and oh no it's a mess"
   ]
  },
  {
   "cell_type": "code",
   "execution_count": null,
   "metadata": {},
   "outputs": [],
   "source": [
    "dfm['CensusTrac'].sort_values().unique()"
   ]
  },
  {
   "cell_type": "markdown",
   "metadata": {},
   "source": [
    "2-3:<br>\n",
    "Because without the workshop in the class, I don't know what it should look like.<br>Load the demographic data into `dfd` and check the format"
   ]
  },
  {
   "cell_type": "code",
   "execution_count": null,
   "metadata": {},
   "outputs": [],
   "source": [
    "dfd = pd.read_csv(r'Data/original/1216_ACS.csv', dtype={'FIPS': 'str'})\n",
    "dfd['FIPS'].sort_values().unique()"
   ]
  },
  {
   "cell_type": "markdown",
   "metadata": {},
   "source": [
    "#### 3. Clean up `dfm` CensusTrac"
   ]
  },
  {
   "cell_type": "code",
   "execution_count": null,
   "metadata": {},
   "outputs": [],
   "source": [
    "dfm['CensusTrac']=dfm['CensusTrac'].str.replace('Null','0').astype(float)*100\n",
    "dfm['CensusTrac']=dfm['CensusTrac'].fillna(0).astype(int).astype(str).str.zfill(6)\n",
    "dfm['FIPS'] = '36067' + dfm['CensusTrac']\n",
    "dfm['FIPS'].sort_values().unique()"
   ]
  },
  {
   "cell_type": "markdown",
   "metadata": {},
   "source": [
    "### Cool. Now the `FIPS` in `dfm` is the same format as `FIPS` in `dfd`\n",
    "However, look at the 2 output above, `dfd` contains way more `FIPS` than `dfm`. The purpose of `dfct`? Because `dfd` contains all tract information from the entire county but we only care about Syracuse. `dfct` gives me census information about Syracuse only.\n",
    "+ `dfd` has 140 FIPS code and `dfm` has 54 only.\n",
    "+ After merging, `dfct` has 53 FIPS code from both.\n",
    "-----\n",
    "### Merge 2: Filter out demographic info for Syracuse only"
   ]
  },
  {
   "cell_type": "code",
   "execution_count": null,
   "metadata": {},
   "outputs": [],
   "source": [
    "dfct = pd.merge(dfd,\n",
    "                dfm.drop_duplicates('FIPS')[['FIPS','complaint_number']],\n",
    "                on = 'FIPS',\n",
    "                how = 'inner',\n",
    "                validate = '1:1',\n",
    "                indicator = True\n",
    "               )\n",
    "dfct['_merge'].value_counts()\n",
    "#dfct = dfct[dfct['_merge'] == \"both\"]"
   ]
  },
  {
   "cell_type": "code",
   "execution_count": null,
   "metadata": {},
   "outputs": [],
   "source": [
    "display(HTML(dfct.head(1).to_html()))"
   ]
  },
  {
   "cell_type": "markdown",
   "metadata": {},
   "source": [
    "----\n",
    "### Merge 3: Now `dfm` from Parcel & Cityline Merges with `dfct` demographic info about Syracuse and make `df`"
   ]
  },
  {
   "cell_type": "code",
   "execution_count": null,
   "metadata": {},
   "outputs": [],
   "source": [
    "df = pd.merge(dfm.drop(columns=['_merge']), \n",
    "              dfct.drop(columns=['_merge', 'complaint_number']), \n",
    "              on = 'FIPS', \n",
    "              how = 'left', \n",
    "              validate = \"m:1\", \n",
    "              indicator = True \n",
    "             )\n",
    "df['_merge'].value_counts()"
   ]
  },
  {
   "cell_type": "markdown",
   "metadata": {},
   "source": [
    "### Result: 6,497 matches!\n",
    "Why do 40 entries have no match (left_only)? Because their `CensusTrac` is 0 and `FIPS` is 36067000000.\n",
    "<br>Originally, in `Parcel`, their `CensusTrac` is either `Null` or `nan`. Why? Idk"
   ]
  },
  {
   "cell_type": "code",
   "execution_count": null,
   "metadata": {},
   "outputs": [],
   "source": [
    "display(HTML(df.head(1).to_html()))"
   ]
  },
  {
   "cell_type": "code",
   "execution_count": null,
   "metadata": {},
   "outputs": [],
   "source": [
    "df.to_csv('data/working/df.csv')"
   ]
  },
  {
   "cell_type": "markdown",
   "metadata": {},
   "source": [
    "-----\n",
    "# Recap\n",
    "1. `dfc_trash_address`: Cityline. 8,089 entries about Trash, not including Bin stolen, and **6,537** of them have clean address (not `&`,`To`,`At`,etc in the address). The information we need to perform merge is in `street_address` column. \n",
    "<br><font color='red'>**Problems:**</font> Around 1,500 were lost in address cleaning process, how can we reduce the loss in this process??<br>\n",
    "\n",
    "2. `dfp`: Parcel Data. Not particularly useful, but has both address and censustract so it's used as a bridge to connect cityline and demographic. The address information to match with `Cityline` is called `FullName` and the CensusTract info for demographics is called `CensusTrac`\n",
    "<br><font color='red'>**Problems:**</font> Same thing. For Parcel I didn't particularly take note about the number of address removed in the process.<br>\n",
    "3. `dfm`: Merged dataframe of Cityline and Parcel. **6,500** out of the 6,537 are matched. However, the `CensusTrac` is messy so it has to be cleaned and put into `FIPS` to further merge with `dfd`.\n",
    "<br><font color='red'>**Problems:**</font> Why are there `Null` or `nan` in CensusTrac????<br>Also, 37 from cityline have no match in Parcel, if we improve the previous questions, perhaps we can obtain more.\n",
    "4. `dfct`: Very similar to `dfd`, but only contains the tract info about Syracuse. There are **53 CensusTract** in Syracuse about trash\n",
    "<br><font color='red'>**Problems:**</font> But this is based on the dfm, what if some tract neighbourhood have no complaints or parcels?<br>\n",
    "5. `df`: Final, hopefully, dataframe. Out of the 6,537 from the cityline trash, **6,493** now have information from Parcel and from demographic. **7** have parcel and cityline. **40** have only Cityline, I think. Not sure.<br>df has **6,537** entries and **296** columns"
   ]
  },
  {
   "cell_type": "code",
   "execution_count": null,
   "metadata": {},
   "outputs": [],
   "source": [
    "df.info()"
   ]
  },
  {
   "cell_type": "markdown",
   "metadata": {},
   "source": [
    "--------\n",
    "# Ideas\n",
    "## 1. Complaint timing: Just the time of the complaint, nothing about the close time yet."
   ]
  },
  {
   "cell_type": "code",
   "execution_count": 82,
   "metadata": {},
   "outputs": [
    {
     "data": {
      "text/plain": [
       "May    809\n",
       "Mar    717\n",
       "Apr    662\n",
       "Jan    659\n",
       "Feb    612\n",
       "Oct    500\n",
       "Jun    491\n",
       "Aug    487\n",
       "Jul    468\n",
       "Sep    423\n",
       "Nov    374\n",
       "Dec    335\n",
       "Name: open_month_name, dtype: int64"
      ]
     },
     "execution_count": 82,
     "metadata": {},
     "output_type": "execute_result"
    }
   ],
   "source": [
    "import calendar\n",
    "df['open_date']=pd.to_datetime(df['open_date'])\n",
    "df['open_month']=df['open_date'].dt.month\n",
    "df['open_month_name']=df['open_month'].apply(lambda x: calendar.month_abbr[x])\n",
    "df['open_month_name'].value_counts()"
   ]
  },
  {
   "cell_type": "markdown",
   "metadata": {},
   "source": [
    "### 1-1. Complaint count distribution"
   ]
  },
  {
   "cell_type": "code",
   "execution_count": 74,
   "metadata": {},
   "outputs": [
    {
     "data": {
      "image/png": "[encoded data removed]",
      "text/plain": [
       "<Figure size 1080x720 with 1 Axes>"
      ]
     },
     "metadata": {
      "needs_background": "light"
     },
     "output_type": "display_data"
    }
   ],
   "source": [
    "ax = df['open_month'].value_counts().sort_index().plot(kind='bar',\n",
    "                                                       figsize=(15,10),\n",
    "                                                       color=sns.color_palette(\"coolwarm\", 7))\n",
    "\n",
    "# create a list to collect the plt.patches data\n",
    "totals = []\n",
    "\n",
    "# find the values and append to list\n",
    "for i in ax.patches:\n",
    "    totals.append(i.get_height())\n",
    "\n",
    "# set individual bar lables using above list\n",
    "total = sum(totals)\n",
    "\n",
    "# set individual bar lables using above list\n",
    "for i in ax.patches:\n",
    "    # get_x pulls left or right; get_height pushes up or down\n",
    "    ax.text(i.get_x()+.05, i.get_height()+3.95, \\\n",
    "            str(i.get_height()), fontsize=15,\n",
    "                color='dimgrey')"
   ]
  },
  {
   "cell_type": "markdown",
   "metadata": {},
   "source": [
    "### <font color='red'>**Problems:**</font>\n",
    "1. If I use `plt.yticks()` to change the intergers on x-axis to month name, the positions are messed up.\n",
    "2. If I change the number to name in dataframe, sorted index is alphabetically ordered."
   ]
  },
  {
   "cell_type": "code",
   "execution_count": null,
   "metadata": {},
   "outputs": [],
   "source": [
    "ax = sns.scatterplot(x='TNT_NAME', y='open_month',data=df,\n",
    "                     )"
   ]
  }
 ],
 "metadata": {
  "kernelspec": {
   "display_name": "Python 3",
   "language": "python",
   "name": "python3"
  },
  "language_info": {
   "codemirror_mode": {
    "name": "ipython",
    "version": 3
   },
   "file_extension": ".py",
   "mimetype": "text/x-python",
   "name": "python",
   "nbconvert_exporter": "python",
   "pygments_lexer": "ipython3",
   "version": "3.7.4"
  }
 },
 "nbformat": 4,
 "nbformat_minor": 4
}
